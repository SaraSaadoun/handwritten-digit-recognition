{
 "cells": [
  {
   "cell_type": "code",
   "execution_count": null,
   "id": "2cf6904f",
   "metadata": {
    "id": "2cf6904f"
   },
   "outputs": [],
   "source": [
    "!pip install numpy tensorflow opencv-python matplotlib"
   ]
  },
  {
   "cell_type": "code",
   "execution_count": 1,
   "id": "7abd390b",
   "metadata": {
    "executionInfo": {
     "elapsed": 3043,
     "status": "ok",
     "timestamp": 1684508418409,
     "user": {
      "displayName": "Sara Khataam",
      "userId": "04385390320245635658"
     },
     "user_tz": -120
    },
    "id": "7abd390b"
   },
   "outputs": [],
   "source": [
    "import numpy as np\n",
    "import tensorflow as tf\n",
    "from tensorflow.keras.models import Sequential\n",
    "from tensorflow.keras.layers import Dense, Flatten, Dropout\n",
    "from tensorflow.keras.losses import SparseCategoricalCrossentropy\n",
    "from tensorflow.keras.datasets import mnist\n",
    "from tensorflow.keras.utils import normalize\n",
    "import matplotlib.pyplot as plt\n",
    "np.set_printoptions(precision=2)\n",
    "\n",
    "\n",
    "tf.random.set_seed(1234)  # for consistent results\n",
    "np.random.seed(1234)"
   ]
  },
  {
   "cell_type": "code",
   "execution_count": 2,
   "id": "3495857e",
   "metadata": {
    "colab": {
     "base_uri": "https://localhost:8080/"
    },
    "executionInfo": {
     "elapsed": 369,
     "status": "ok",
     "timestamp": 1684508420295,
     "user": {
      "displayName": "Sara Khataam",
      "userId": "04385390320245635658"
     },
     "user_tz": -120
    },
    "id": "3495857e",
    "outputId": "de64a756-1fb5-472f-eb42-2aa0faa515c2"
   },
   "outputs": [],
   "source": [
    "(X_train, y_train), (X_test, y_test) = mnist.load_data()"
   ]
  },
  {
   "cell_type": "code",
   "execution_count": 3,
   "id": "10d07897",
   "metadata": {
    "executionInfo": {
     "elapsed": 1831,
     "status": "ok",
     "timestamp": 1684508424192,
     "user": {
      "displayName": "Sara Khataam",
      "userId": "04385390320245635658"
     },
     "user_tz": -120
    },
    "id": "10d07897"
   },
   "outputs": [],
   "source": [
    "X_train = normalize(X_train,axis=1)\n",
    "X_test = normalize(X_test,axis=1)\n"
   ]
  },
  {
   "cell_type": "code",
   "execution_count": 6,
   "id": "10f03be2",
   "metadata": {
    "colab": {
     "base_uri": "https://localhost:8080/"
    },
    "executionInfo": {
     "elapsed": 357,
     "status": "ok",
     "timestamp": 1684508427242,
     "user": {
      "displayName": "Sara Khataam",
      "userId": "04385390320245635658"
     },
     "user_tz": -120
    },
    "id": "10f03be2",
    "outputId": "62cb980f-3ac5-44e1-839e-65c967593d5f"
   },
   "outputs": [
    {
     "name": "stdout",
     "output_type": "stream",
     "text": [
      "X train shape: (60000, 28, 28)\n",
      "X training example: [[0.   0.   0.   0.   0.   0.   0.   0.   0.   0.   0.   0.   0.   0.\n",
      "  0.   0.   0.   0.   0.   0.   0.   0.   0.   0.   0.   0.   0.   0.  ]\n",
      " [0.   0.   0.   0.   0.   0.   0.   0.   0.   0.   0.   0.   0.   0.\n",
      "  0.   0.   0.   0.   0.   0.   0.   0.   0.   0.   0.   0.   0.   0.  ]\n",
      " [0.   0.   0.   0.   0.   0.   0.   0.   0.   0.   0.   0.   0.   0.\n",
      "  0.   0.   0.   0.   0.   0.   0.   0.   0.   0.   0.   0.   0.   0.  ]\n",
      " [0.   0.   0.   0.   0.   0.   0.   0.   0.   0.   0.   0.   0.   0.\n",
      "  0.   0.   0.   0.   0.   0.   0.   0.   0.   0.   0.   0.   0.   0.  ]\n",
      " [0.   0.   0.   0.   0.   0.   0.   0.   0.   0.   0.   0.   0.   0.\n",
      "  0.   0.   0.   0.   0.   0.   0.   0.   0.   0.   0.   0.   0.   0.  ]\n",
      " [0.   0.   0.   0.   0.   0.   0.   0.   0.   0.   0.   0.   0.   0.\n",
      "  0.   0.02 0.04 0.16 0.14 0.01 0.   0.   0.   0.   0.   0.   0.   0.  ]\n",
      " [0.   0.   0.   0.   0.   0.   0.   0.   0.   0.   0.   0.   0.   0.05\n",
      "  0.23 0.31 0.41 0.39 0.3  0.19 0.   0.   0.   0.   0.   0.   0.   0.  ]\n",
      " [0.   0.   0.   0.   0.   0.   0.   0.   0.   0.   0.   0.07 0.23 0.36\n",
      "  0.39 0.38 0.36 0.33 0.3  0.31 0.12 0.   0.   0.   0.   0.   0.   0.  ]\n",
      " [0.   0.   0.   0.   0.   0.   0.   0.   0.   0.03 0.24 0.39 0.39 0.37\n",
      "  0.39 0.32 0.05 0.06 0.3  0.33 0.18 0.   0.   0.   0.   0.   0.   0.  ]\n",
      " [0.   0.   0.   0.   0.   0.   0.   0.   0.   0.18 0.39 0.41 0.39 0.37\n",
      "  0.33 0.04 0.   0.06 0.3  0.33 0.18 0.   0.   0.   0.   0.   0.   0.  ]\n",
      " [0.   0.   0.   0.   0.   0.   0.   0.   0.   0.33 0.39 0.41 0.34 0.25\n",
      "  0.05 0.   0.   0.12 0.3  0.33 0.18 0.   0.   0.   0.   0.   0.   0.  ]\n",
      " [0.   0.   0.   0.   0.   0.   0.   0.   0.   0.05 0.2  0.09 0.03 0.\n",
      "  0.   0.   0.   0.16 0.3  0.33 0.18 0.   0.   0.   0.   0.   0.   0.  ]\n",
      " [0.   0.   0.   0.   0.   0.   0.   0.   0.   0.   0.   0.   0.   0.\n",
      "  0.   0.   0.   0.25 0.3  0.33 0.18 0.   0.   0.   0.   0.   0.   0.  ]\n",
      " [0.   0.   0.   0.   0.   0.   0.   0.   0.   0.   0.   0.   0.   0.16\n",
      "  0.19 0.18 0.19 0.32 0.3  0.26 0.01 0.   0.   0.   0.   0.   0.   0.  ]\n",
      " [0.   0.   0.   0.   0.   0.   0.   0.   0.   0.   0.02 0.09 0.28 0.37\n",
      "  0.39 0.38 0.41 0.4  0.27 0.05 0.   0.   0.   0.   0.   0.   0.   0.  ]\n",
      " [0.   0.   0.   0.   0.   0.   0.   0.   0.01 0.1  0.35 0.41 0.37 0.34\n",
      "  0.26 0.36 0.41 0.39 0.27 0.15 0.02 0.   0.   0.   0.   0.   0.   0.  ]\n",
      " [0.   0.   0.   0.   0.   0.   0.   0.01 0.15 0.46 0.39 0.2  0.09 0.\n",
      "  0.03 0.31 0.41 0.39 0.3  0.33 0.25 0.02 0.   0.   0.   0.   0.   0.  ]\n",
      " [0.   0.   0.   0.   0.   0.   0.01 0.25 0.5  0.46 0.28 0.03 0.   0.03\n",
      "  0.31 0.38 0.4  0.2  0.2  0.33 0.74 0.58 0.21 0.16 0.21 0.   0.   0.  ]\n",
      " [0.   0.   0.   0.   0.   0.01 0.29 0.47 0.48 0.2  0.03 0.   0.08 0.29\n",
      "  0.39 0.32 0.1  0.   0.02 0.09 0.48 0.76 0.8  0.8  0.96 0.   0.   0.  ]\n",
      " [0.   0.   0.   0.   0.   0.32 0.54 0.45 0.17 0.03 0.11 0.28 0.38 0.37\n",
      "  0.19 0.04 0.   0.   0.   0.   0.   0.28 0.57 0.57 0.16 0.   0.   0.  ]\n",
      " [0.   0.   0.   0.   0.   0.7  0.54 0.46 0.41 0.4  0.39 0.41 0.39 0.18\n",
      "  0.   0.   0.   0.   0.   0.   0.   0.   0.   0.   0.   0.   0.   0.  ]\n",
      " [0.   0.   0.   0.   0.   0.63 0.54 0.47 0.5  0.46 0.28 0.19 0.06 0.01\n",
      "  0.   0.   0.   0.   0.   0.   0.   0.   0.   0.   0.   0.   0.   0.  ]\n",
      " [0.   0.   0.   0.   0.   0.04 0.2  0.27 0.24 0.04 0.01 0.   0.   0.\n",
      "  0.   0.   0.   0.   0.   0.   0.   0.   0.   0.   0.   0.   0.   0.  ]\n",
      " [0.   0.   0.   0.   0.   0.   0.   0.   0.   0.   0.   0.   0.   0.\n",
      "  0.   0.   0.   0.   0.   0.   0.   0.   0.   0.   0.   0.   0.   0.  ]\n",
      " [0.   0.   0.   0.   0.   0.   0.   0.   0.   0.   0.   0.   0.   0.\n",
      "  0.   0.   0.   0.   0.   0.   0.   0.   0.   0.   0.   0.   0.   0.  ]\n",
      " [0.   0.   0.   0.   0.   0.   0.   0.   0.   0.   0.   0.   0.   0.\n",
      "  0.   0.   0.   0.   0.   0.   0.   0.   0.   0.   0.   0.   0.   0.  ]\n",
      " [0.   0.   0.   0.   0.   0.   0.   0.   0.   0.   0.   0.   0.   0.\n",
      "  0.   0.   0.   0.   0.   0.   0.   0.   0.   0.   0.   0.   0.   0.  ]\n",
      " [0.   0.   0.   0.   0.   0.   0.   0.   0.   0.   0.   0.   0.   0.\n",
      "  0.   0.   0.   0.   0.   0.   0.   0.   0.   0.   0.   0.   0.   0.  ]]\n",
      "X test shape: (10000, 28, 28)\n",
      "X test example: [[0.   0.   0.   0.   0.   0.   0.   0.   0.   0.   0.   0.   0.   0.\n",
      "  0.   0.   0.   0.   0.   0.   0.   0.   0.   0.   0.   0.   0.   0.  ]\n",
      " [0.   0.   0.   0.   0.   0.   0.   0.   0.   0.   0.   0.   0.   0.\n",
      "  0.   0.   0.   0.   0.   0.   0.   0.   0.   0.   0.   0.   0.   0.  ]\n",
      " [0.   0.   0.   0.   0.   0.   0.   0.   0.   0.   0.   0.   0.   0.\n",
      "  0.   0.   0.   0.   0.   0.   0.   0.   0.   0.   0.   0.   0.   0.  ]\n",
      " [0.   0.   0.   0.   0.   0.   0.   0.   0.   0.   0.   0.   0.   0.\n",
      "  0.   0.   0.   0.   0.   0.   0.   0.   0.   0.   0.   0.   0.   0.  ]\n",
      " [0.   0.   0.   0.   0.   0.   0.   0.   0.   0.   0.   0.   0.   0.\n",
      "  0.   0.   0.   0.   0.   0.   0.   0.   0.   0.   0.   0.   0.   0.  ]\n",
      " [0.   0.   0.   0.   0.   0.   0.   0.   0.   0.   0.   0.   0.   0.\n",
      "  0.   0.   0.11 0.43 0.32 0.31 0.   0.   0.   0.   0.   0.   0.   0.  ]\n",
      " [0.   0.   0.   0.   0.   0.   0.   0.   0.   0.   0.   0.   0.   0.\n",
      "  0.   0.03 0.34 0.43 0.77 0.94 0.   0.   0.   0.   0.   0.   0.   0.  ]\n",
      " [0.   0.   0.   0.   0.   0.   0.   0.   0.   0.   0.   0.   0.   0.\n",
      "  0.   0.11 0.38 0.43 0.5  0.1  0.   0.   0.   0.   0.   0.   0.   0.  ]\n",
      " [0.   0.   0.   0.   0.   0.   0.   0.   0.   0.   0.   0.   0.   0.\n",
      "  0.01 0.29 0.38 0.43 0.22 0.   0.   0.   0.   0.   0.   0.   0.   0.  ]\n",
      " [0.   0.   0.   0.   0.   0.   0.   0.   0.   0.   0.   0.   0.   0.\n",
      "  0.07 0.36 0.38 0.42 0.   0.   0.   0.   0.   0.   0.   0.   0.   0.  ]\n",
      " [0.   0.   0.   0.   0.   0.   0.   0.   0.   0.   0.   0.   0.   0.\n",
      "  0.19 0.36 0.38 0.3  0.   0.   0.   0.   0.   0.   0.   0.   0.   0.  ]\n",
      " [0.   0.   0.   0.   0.   0.   0.   0.   0.   0.   0.   0.   0.   0.\n",
      "  0.28 0.36 0.37 0.08 0.   0.   0.   0.   0.   0.   0.   0.   0.   0.  ]\n",
      " [0.   0.   0.   0.   0.   0.   0.   0.   0.   0.   0.   0.   0.   0.08\n",
      "  0.36 0.36 0.35 0.   0.   0.   0.   0.   0.   0.   0.   0.   0.   0.  ]\n",
      " [0.   0.   0.   0.   0.   0.   0.   0.   0.   0.   0.   0.   0.   0.15\n",
      "  0.36 0.36 0.2  0.   0.   0.   0.   0.   0.   0.   0.   0.   0.   0.  ]\n",
      " [0.   0.   0.   0.   0.   0.   0.   0.   0.   0.   0.   0.   0.   0.22\n",
      "  0.36 0.34 0.04 0.   0.   0.   0.   0.   0.   0.   0.   0.   0.   0.  ]\n",
      " [0.   0.   0.   0.   0.   0.   0.   0.   0.   0.   0.   0.   0.09 0.34\n",
      "  0.36 0.31 0.   0.   0.   0.   0.   0.   0.   0.   0.   0.   0.   0.  ]\n",
      " [0.   0.   0.   0.   0.   0.   0.   0.   0.   0.   0.   0.   0.12 0.35\n",
      "  0.36 0.22 0.   0.   0.   0.   0.   0.   0.   0.   0.   0.   0.   0.  ]\n",
      " [0.   0.   0.   0.   0.   0.   0.   0.   0.   0.   0.   0.   0.24 0.35\n",
      "  0.34 0.07 0.   0.   0.   0.   0.   0.   0.   0.   0.   0.   0.   0.  ]\n",
      " [0.   0.   0.   0.   0.   0.   0.   0.   0.   0.   0.   0.08 0.38 0.35\n",
      "  0.3  0.   0.   0.   0.   0.   0.   0.   0.   0.   0.   0.   0.   0.  ]\n",
      " [0.   0.   0.   0.   0.   0.   0.   0.   0.   0.   0.   0.25 0.38 0.35\n",
      "  0.19 0.   0.   0.   0.   0.   0.   0.   0.   0.   0.   0.   0.   0.  ]\n",
      " [0.   0.   0.   0.   0.   0.   0.   0.   0.   0.   0.   0.3  0.38 0.32\n",
      "  0.03 0.   0.   0.   0.   0.   0.   0.   0.   0.   0.   0.   0.   0.  ]\n",
      " [0.   0.   0.   0.   0.   0.   0.   0.   0.   0.   0.   0.51 0.38 0.28\n",
      "  0.01 0.   0.   0.   0.   0.   0.   0.   0.   0.   0.   0.   0.   0.  ]\n",
      " [0.   0.   0.   0.   0.   0.   0.   0.   0.   0.   0.86 0.61 0.38 0.27\n",
      "  0.   0.   0.   0.   0.   0.   0.   0.   0.   0.   0.   0.   0.   0.  ]\n",
      " [0.   0.   0.   0.   0.   0.   0.   0.   0.   0.   0.51 0.46 0.38 0.22\n",
      "  0.   0.   0.   0.   0.   0.   0.   0.   0.   0.   0.   0.   0.   0.  ]\n",
      " [0.   0.   0.   0.   0.   0.   0.   0.   0.   0.   0.   0.08 0.23 0.15\n",
      "  0.   0.   0.   0.   0.   0.   0.   0.   0.   0.   0.   0.   0.   0.  ]\n",
      " [0.   0.   0.   0.   0.   0.   0.   0.   0.   0.   0.   0.   0.   0.\n",
      "  0.   0.   0.   0.   0.   0.   0.   0.   0.   0.   0.   0.   0.   0.  ]\n",
      " [0.   0.   0.   0.   0.   0.   0.   0.   0.   0.   0.   0.   0.   0.\n",
      "  0.   0.   0.   0.   0.   0.   0.   0.   0.   0.   0.   0.   0.   0.  ]\n",
      " [0.   0.   0.   0.   0.   0.   0.   0.   0.   0.   0.   0.   0.   0.\n",
      "  0.   0.   0.   0.   0.   0.   0.   0.   0.   0.   0.   0.   0.   0.  ]]\n",
      "y train shape: (60000,)\n",
      "y training example: 2\n",
      "y test shape: (10000,)\n",
      "y test example: 1\n"
     ]
    }
   ],
   "source": [
    "print(f\"X train shape: {X_train.shape}\")\n",
    "print(f\"X training example: {X_train[5]}\")\n",
    "\n",
    "print(f\"X test shape: {X_test.shape}\")\n",
    "print(f\"X test example: {X_test[5]}\")\n",
    "\n",
    "print(f\"y train shape: {y_train.shape}\")\n",
    "print(f\"y training example: {y_train[5]}\")\n",
    "\n",
    "print(f\"y test shape: {y_test.shape}\")\n",
    "print(f\"y test example: {y_test[5]}\")"
   ]
  },
  {
   "cell_type": "code",
   "execution_count": 26,
   "id": "768d728e",
   "metadata": {
    "executionInfo": {
     "elapsed": 236,
     "status": "ok",
     "timestamp": 1684508432800,
     "user": {
      "displayName": "Sara Khataam",
      "userId": "04385390320245635658"
     },
     "user_tz": -120
    },
    "id": "768d728e"
   },
   "outputs": [],
   "source": [
    "def show_random_sample(X, y):\n",
    "    m, n, n = X.shape  # training examples no, shape of x (28*28)\n",
    "\n",
    "    fig, axes = plt.subplots(4,4, figsize=(5,5))\n",
    "    fig.tight_layout(pad=0.13, rect=[0, 0.03, 1, 0.91]) #[left, bottom, right, top]\n",
    "\n",
    "    for i,ax in enumerate(axes.flat):\n",
    "        # Select random indices\n",
    "        random_index = np.random.randint(m)\n",
    "\n",
    "        # Display the image of this random index\n",
    "        ax.imshow(X[random_index], cmap='gray')\n",
    "\n",
    "        # Display the label of the image above it\n",
    "        ax.set_title(y[random_index])\n",
    "        \n",
    "        \n",
    "        ax.set_axis_off() # remove ticks, ax line, & label\n",
    "    fig.suptitle(\"Label, image\", fontsize=14)"
   ]
  },
  {
   "cell_type": "code",
   "execution_count": 27,
   "id": "ac29f8a0",
   "metadata": {
    "colab": {
     "base_uri": "https://localhost:8080/",
     "height": 486
    },
    "executionInfo": {
     "elapsed": 2356,
     "status": "ok",
     "timestamp": 1684508439017,
     "user": {
      "displayName": "Sara Khataam",
      "userId": "04385390320245635658"
     },
     "user_tz": -120
    },
    "id": "ac29f8a0",
    "outputId": "26683745-fc60-4816-fd11-28f1d91dc711"
   },
   "outputs": [
    {
     "data": {
      "image/png": "[encoded data removed]",
      "text/plain": [
       "<Figure size 500x500 with 16 Axes>"
      ]
     },
     "metadata": {},
     "output_type": "display_data"
    }
   ],
   "source": [
    "show_random_sample(X_train, y_train)"
   ]
  },
  {
   "cell_type": "code",
   "execution_count": 17,
   "id": "de6f6d2a",
   "metadata": {
    "executionInfo": {
     "elapsed": 451,
     "status": "ok",
     "timestamp": 1684509126028,
     "user": {
      "displayName": "Sara Khataam",
      "userId": "04385390320245635658"
     },
     "user_tz": -120
    },
    "id": "de6f6d2a"
   },
   "outputs": [],
   "source": [
    "model = Sequential()\n",
    "model.add(Flatten(input_shape=(28, 28)))\n",
    "model.add(Dense(128, activation='relu', name='L1'))\n",
    "model.add(Dense(128, activation='relu', name='L2'))\n",
    "model.add(Dropout(0.2, name='L3'))\n",
    "model.add(Dense(10, activation='softmax', name='L4'))"
   ]
  },
  {
   "cell_type": "code",
   "execution_count": 18,
   "id": "6c67ac53",
   "metadata": {
    "colab": {
     "base_uri": "https://localhost:8080/"
    },
    "executionInfo": {
     "elapsed": 14,
     "status": "ok",
     "timestamp": 1684509128663,
     "user": {
      "displayName": "Sara Khataam",
      "userId": "04385390320245635658"
     },
     "user_tz": -120
    },
    "id": "6c67ac53",
    "outputId": "afe00113-6e8b-4eeb-a2d3-a9e37746c1ed"
   },
   "outputs": [
    {
     "name": "stdout",
     "output_type": "stream",
     "text": [
      "Model: \"sequential_1\"\n",
      "_________________________________________________________________\n",
      " Layer (type)                Output Shape              Param #   \n",
      "=================================================================\n",
      " flatten_1 (Flatten)         (None, 784)               0         \n",
      "                                                                 \n",
      " L1 (Dense)                  (None, 128)               100480    \n",
      "                                                                 \n",
      " L2 (Dense)                  (None, 128)               16512     \n",
      "                                                                 \n",
      " L3 (Dropout)                (None, 128)               0         \n",
      "                                                                 \n",
      " L4 (Dense)                  (None, 10)                1290      \n",
      "                                                                 \n",
      "=================================================================\n",
      "Total params: 118,282\n",
      "Trainable params: 118,282\n",
      "Non-trainable params: 0\n",
      "_________________________________________________________________\n"
     ]
    }
   ],
   "source": [
    "model.summary()"
   ]
  },
  {
   "cell_type": "code",
   "execution_count": 19,
   "id": "353dee27",
   "metadata": {
    "colab": {
     "base_uri": "https://localhost:8080/"
    },
    "executionInfo": {
     "elapsed": 318,
     "status": "ok",
     "timestamp": 1684509132491,
     "user": {
      "displayName": "Sara Khataam",
      "userId": "04385390320245635658"
     },
     "user_tz": -120
    },
    "id": "353dee27",
    "outputId": "da2cd28e-782a-40b9-9d8c-5d66cf181d68"
   },
   "outputs": [
    {
     "name": "stdout",
     "output_type": "stream",
     "text": [
      "L1 : W1 shape = (784, 128), b1 shape = (128,)\n",
      "L2 : W2 shape = (128, 128), b2 shape = (128,)\n",
      "L4 : W3 shape = (128, 10), b3 shape = (10,)\n"
     ]
    }
   ],
   "source": [
    "[input_layer, layer1, layer2, layer3, layer4] = model.layers\n",
    "#### Examine Weights shapes\n",
    "W1,b1 = layer1.get_weights()\n",
    "W2,b2 = layer2.get_weights()\n",
    "W4,b4 = layer4.get_weights()\n",
    "print(f\"{layer1.name} : W1 shape = {W1.shape}, b1 shape = {b1.shape}\")\n",
    "print(f\"{layer2.name} : W2 shape = {W2.shape}, b2 shape = {b2.shape}\")\n",
    "print(f\"{layer4.name} : W3 shape = {W4.shape}, b3 shape = {b4.shape}\")"
   ]
  },
  {
   "cell_type": "code",
   "execution_count": 21,
   "id": "8dadb8a3",
   "metadata": {
    "executionInfo": {
     "elapsed": 2,
     "status": "ok",
     "timestamp": 1684509136057,
     "user": {
      "displayName": "Sara Khataam",
      "userId": "04385390320245635658"
     },
     "user_tz": -120
    },
    "id": "8dadb8a3"
   },
   "outputs": [],
   "source": [
    "model.compile(\n",
    "    loss=SparseCategoricalCrossentropy(),\n",
    "    optimizer='adam',\n",
    "    metrics=['accuracy']\n",
    ")"
   ]
  },
  {
   "cell_type": "code",
   "execution_count": 23,
   "id": "88a45ac3",
   "metadata": {
    "colab": {
     "base_uri": "https://localhost:8080/"
    },
    "executionInfo": {
     "elapsed": 21330,
     "status": "ok",
     "timestamp": 1684509159748,
     "user": {
      "displayName": "Sara Khataam",
      "userId": "04385390320245635658"
     },
     "user_tz": -120
    },
    "id": "88a45ac3",
    "outputId": "a5838511-da64-4e46-9b0d-d3b06262d029"
   },
   "outputs": [
    {
     "name": "stdout",
     "output_type": "stream",
     "text": [
      "Epoch 1/3\n",
      "1875/1875 [==============================] - 3s 1ms/step - loss: 0.0631 - accuracy: 0.9801\n",
      "Epoch 2/3\n",
      "1875/1875 [==============================] - 3s 1ms/step - loss: 0.0510 - accuracy: 0.9841\n",
      "Epoch 3/3\n",
      "1875/1875 [==============================] - 3s 1ms/step - loss: 0.0389 - accuracy: 0.9876\n"
     ]
    }
   ],
   "source": [
    "history = model.fit(X_train, y_train, epochs=3)"
   ]
  },
  {
   "cell_type": "code",
   "execution_count": 24,
   "id": "ffff215f",
   "metadata": {
    "colab": {
     "base_uri": "https://localhost:8080/"
    },
    "executionInfo": {
     "elapsed": 598,
     "status": "ok",
     "timestamp": 1684509163713,
     "user": {
      "displayName": "Sara Khataam",
      "userId": "04385390320245635658"
     },
     "user_tz": -120
    },
    "id": "ffff215f",
    "outputId": "63c7c08e-2972-4b0a-b86b-01f845f69490"
   },
   "outputs": [
    {
     "name": "stdout",
     "output_type": "stream",
     "text": [
      "313/313 [==============================] - 1s 1ms/step - loss: 0.0912 - accuracy: 0.9744\n"
     ]
    }
   ],
   "source": [
    "loss, accuracy = model.evaluate(X_test, y_test)"
   ]
  },
  {
   "cell_type": "code",
   "execution_count": 19,
   "id": "f78b2db5",
   "metadata": {
    "executionInfo": {
     "elapsed": 247,
     "status": "ok",
     "timestamp": 1684508483484,
     "user": {
      "displayName": "Sara Khataam",
      "userId": "04385390320245635658"
     },
     "user_tz": -120
    },
    "id": "f78b2db5"
   },
   "outputs": [],
   "source": [
    "# model.save('handwritten.model')"
   ]
  },
  {
   "cell_type": "code",
   "execution_count": 20,
   "id": "a5d24321",
   "metadata": {
    "executionInfo": {
     "elapsed": 447,
     "status": "ok",
     "timestamp": 1684508486106,
     "user": {
      "displayName": "Sara Khataam",
      "userId": "04385390320245635658"
     },
     "user_tz": -120
    },
    "id": "a5d24321"
   },
   "outputs": [],
   "source": [
    "# model = tf.keras.models.load_model('handwritten.model')"
   ]
  },
  {
   "cell_type": "code",
   "execution_count": 28,
   "id": "91598e33",
   "metadata": {
    "executionInfo": {
     "elapsed": 407,
     "status": "ok",
     "timestamp": 1684509174050,
     "user": {
      "displayName": "Sara Khataam",
      "userId": "04385390320245635658"
     },
     "user_tz": -120
    },
    "id": "91598e33"
   },
   "outputs": [],
   "source": [
    "def display_digit(x, y, yhat):\n",
    "    m, n, n = x.shape\n",
    "\n",
    "    fig, axis = plt.subplots(1,1,figsize=(3, 3))\n",
    "    # Display the image\n",
    "    axis.imshow(x[0], cmap='gray')\n",
    "\n",
    "    # Display the label above the image\n",
    "    axis.set_title(f\"{y},{yhat}\",fontsize=10)\n",
    "    \n",
    "    axis.set_axis_off()\n",
    "    fig.suptitle(\"Label, yhat\", fontsize=8)\n",
    "    plt.show()"
   ]
  },
  {
   "cell_type": "code",
   "execution_count": 35,
   "id": "dc0705cb",
   "metadata": {
    "colab": {
     "base_uri": "https://localhost:8080/",
     "height": 489
    },
    "executionInfo": {
     "elapsed": 16,
     "status": "ok",
     "timestamp": 1684509176418,
     "user": {
      "displayName": "Sara Khataam",
      "userId": "04385390320245635658"
     },
     "user_tz": -120
    },
    "id": "dc0705cb",
    "outputId": "3849ccfc-921f-4085-ff83-0c47efe60aa5"
   },
   "outputs": [
    {
     "name": "stdout",
     "output_type": "stream",
     "text": [
      "1/1 [==============================] - 0s 16ms/step\n",
      " predicting a zero: \n",
      "[[1.00e+00 3.31e-09 2.22e-06 6.71e-11 8.61e-10 1.27e-06 3.14e-06 1.51e-07\n",
      "  2.02e-11 1.28e-06]]\n",
      "\n",
      " Largest prediction index : 0\n",
      "\n",
      "Total of predictions: 1.000\n"
     ]
    },
    {
     "data": {
      "image/png": "[encoded data removed]",
      "text/plain": [
       "<Figure size 300x300 with 1 Axes>"
      ]
     },
     "metadata": {},
     "output_type": "display_data"
    }
   ],
   "source": [
    "# select random image from test-data\n",
    "img_of_zero = np.array([X_test[10]])\n",
    "label_of_zero = y_test[10]\n",
    "\n",
    "# predict\n",
    "y_predicted = model.predict(img_of_zero) # vector\n",
    "print(f\" predicting a zero: \\n{y_predicted}\\n\")\n",
    "\n",
    "# predicted value - yhat\n",
    "yhat = np.argmax(y_predicted) # index of the highest probability\n",
    "print(f\" Largest prediction index : {np.argmax(yhat)}\\n\")\n",
    "\n",
    "print(f\"Total of predictions: {np.sum(y_predicted):0.3f}\")\n",
    "\n",
    "display_digit(img_of_zero, label_of_zero, yhat)\n"
   ]
  },
  {
   "cell_type": "code",
   "execution_count": 36,
   "id": "ca78c51d",
   "metadata": {
    "colab": {
     "base_uri": "https://localhost:8080/",
     "height": 1000
    },
    "executionInfo": {
     "elapsed": 2366,
     "status": "ok",
     "timestamp": 1684509438230,
     "user": {
      "displayName": "Sara Khataam",
      "userId": "04385390320245635658"
     },
     "user_tz": -120
    },
    "id": "ca78c51d",
    "outputId": "6d53e132-41fc-48cc-eae6-5053a6ecf916"
   },
   "outputs": [
    {
     "name": "stdout",
     "output_type": "stream",
     "text": [
      "1/1 [==============================] - 0s 16ms/step\n",
      "This digit is a 0.\n"
     ]
    },
    {
     "data": {
      "image/png": "[encoded data removed]",
      "text/plain": [
       "<Figure size 300x300 with 1 Axes>"
      ]
     },
     "metadata": {},
     "output_type": "display_data"
    },
    {
     "name": "stdout",
     "output_type": "stream",
     "text": [
      "1/1 [==============================] - 0s 21ms/step\n",
      "This digit is a 1.\n"
     ]
    },
    {
     "data": {
      "image/png": "[encoded data removed]",
      "text/plain": [
       "<Figure size 300x300 with 1 Axes>"
      ]
     },
     "metadata": {},
     "output_type": "display_data"
    },
    {
     "name": "stdout",
     "output_type": "stream",
     "text": [
      "1/1 [==============================] - 0s 24ms/step\n",
      "This digit is a 2.\n"
     ]
    },
    {
     "data": {
      "image/png": "[encoded data removed]",
      "text/plain": [
       "<Figure size 300x300 with 1 Axes>"
      ]
     },
     "metadata": {},
     "output_type": "display_data"
    },
    {
     "name": "stdout",
     "output_type": "stream",
     "text": [
      "1/1 [==============================] - 0s 20ms/step\n",
      "This digit is a 3.\n"
     ]
    },
    {
     "data": {
      "image/png": "[encoded data removed]",
      "text/plain": [
       "<Figure size 300x300 with 1 Axes>"
      ]
     },
     "metadata": {},
     "output_type": "display_data"
    },
    {
     "name": "stdout",
     "output_type": "stream",
     "text": [
      "1/1 [==============================] - 0s 20ms/step\n",
      "This digit is a 8.\n"
     ]
    },
    {
     "data": {
      "image/png": "[encoded data removed]",
      "text/plain": [
       "<Figure size 300x300 with 1 Axes>"
      ]
     },
     "metadata": {},
     "output_type": "display_data"
    },
    {
     "name": "stdout",
     "output_type": "stream",
     "text": [
      "1/1 [==============================] - 0s 23ms/step\n",
      "This digit is a 5.\n"
     ]
    },
    {
     "data": {
      "image/png": "[encoded data removed]",
      "text/plain": [
       "<Figure size 300x300 with 1 Axes>"
      ]
     },
     "metadata": {},
     "output_type": "display_data"
    },
    {
     "name": "stdout",
     "output_type": "stream",
     "text": [
      "1/1 [==============================] - 0s 19ms/step\n",
      "This digit is a 6.\n"
     ]
    },
    {
     "data": {
      "image/png": "[encoded data removed]",
      "text/plain": [
       "<Figure size 300x300 with 1 Axes>"
      ]
     },
     "metadata": {},
     "output_type": "display_data"
    },
    {
     "name": "stdout",
     "output_type": "stream",
     "text": [
      "1/1 [==============================] - 0s 22ms/step\n",
      "This digit is a 7.\n"
     ]
    },
    {
     "data": {
      "image/png": "[encoded data removed]",
      "text/plain": [
       "<Figure size 300x300 with 1 Axes>"
      ]
     },
     "metadata": {},
     "output_type": "display_data"
    },
    {
     "name": "stdout",
     "output_type": "stream",
     "text": [
      "1/1 [==============================] - 0s 21ms/step\n",
      "This digit is a 8.\n"
     ]
    },
    {
     "data": {
      "image/png": "[encoded data removed]",
      "text/plain": [
       "<Figure size 300x300 with 1 Axes>"
      ]
     },
     "metadata": {},
     "output_type": "display_data"
    },
    {
     "name": "stdout",
     "output_type": "stream",
     "text": [
      "1/1 [==============================] - 0s 21ms/step\n",
      "This digit is a 9.\n"
     ]
    },
    {
     "data": {
      "image/png": "[encoded data removed]",
      "text/plain": [
       "<Figure size 300x300 with 1 Axes>"
      ]
     },
     "metadata": {},
     "output_type": "display_data"
    },
    {
     "name": "stdout",
     "output_type": "stream",
     "text": [
      "1/1 [==============================] - 0s 22ms/step\n",
      "This digit is a 0.\n"
     ]
    },
    {
     "data": {
      "image/png": "[encoded data removed]",
      "text/plain": [
       "<Figure size 300x300 with 1 Axes>"
      ]
     },
     "metadata": {},
     "output_type": "display_data"
    },
    {
     "name": "stdout",
     "output_type": "stream",
     "text": [
      "1/1 [==============================] - 0s 22ms/step\n",
      "This digit is a 1.\n"
     ]
    },
    {
     "data": {
      "image/png": "[encoded data removed]",
      "text/plain": [
       "<Figure size 300x300 with 1 Axes>"
      ]
     },
     "metadata": {},
     "output_type": "display_data"
    },
    {
     "name": "stdout",
     "output_type": "stream",
     "text": [
      "1/1 [==============================] - 0s 21ms/step\n",
      "This digit is a 2.\n"
     ]
    },
    {
     "data": {
      "image/png": "[encoded data removed]",
      "text/plain": [
       "<Figure size 300x300 with 1 Axes>"
      ]
     },
     "metadata": {},
     "output_type": "display_data"
    },
    {
     "name": "stdout",
     "output_type": "stream",
     "text": [
      "1/1 [==============================] - 0s 22ms/step\n",
      "This digit is a 3.\n"
     ]
    },
    {
     "data": {
      "image/png": "[encoded data removed]",
      "text/plain": [
       "<Figure size 300x300 with 1 Axes>"
      ]
     },
     "metadata": {},
     "output_type": "display_data"
    }
   ],
   "source": [
    "import os\n",
    "import cv2\n",
    "\n",
    "img_no = 0\n",
    "correctly_classified = 0\n",
    "while os.path.isfile(f\"./test-data/{img_no}.png\"):\n",
    "    try:\n",
    "        # read image\n",
    "        img = cv2.imread(f\"./test-data/{img_no}.png\", cv2.IMREAD_GRAYSCALE)\n",
    "        \n",
    "        # preprocessing\n",
    "        img = cv2.resize(img, (28, 28))\n",
    "        img = np.invert(np.array([img]))\n",
    "        img = normalize(img)\n",
    "        \n",
    "        # prediction\n",
    "        prediction = model.predict(img)\n",
    "        print(f\"This digit is a {np.argmax(prediction)}.\")\n",
    "        \n",
    "        # visualization\n",
    "        display_digit(img, img_no%10, np.argmax(prediction))\n",
    "        \n",
    "        # increment if it is correctly classified\n",
    "        correctly_classified += (img_no%10 == np.argmax(prediction))\n",
    "    except: \n",
    "        print(\"Error!\")\n",
    "    finally:\n",
    "        img_no += 1\n",
    "        "
   ]
  },
  {
   "cell_type": "code",
   "execution_count": 38,
   "id": "49d4ef77",
   "metadata": {
    "colab": {
     "base_uri": "https://localhost:8080/"
    },
    "executionInfo": {
     "elapsed": 282,
     "status": "ok",
     "timestamp": 1684509446235,
     "user": {
      "displayName": "Sara Khataam",
      "userId": "04385390320245635658"
     },
     "user_tz": -120
    },
    "id": "49d4ef77",
    "outputId": "7c1954f0-b89d-4466-98b4-f0cfc6e98ab8"
   },
   "outputs": [
    {
     "name": "stdout",
     "output_type": "stream",
     "text": [
      "Percentage of correctly calssified images : 92.85714285714286\n",
      "Number of correctly classified images from 14 : 13\n"
     ]
    }
   ],
   "source": [
    "print(f\"Percentage of correctly calssified images : {correctly_classified/img_no*100}\")\n",
    "print(f\"Number of correctly classified images from {img_no} : {correctly_classified}\")"
   ]
  },
  {
   "cell_type": "code",
   "execution_count": null,
   "id": "1b0e560e",
   "metadata": {
    "id": "1b0e560e"
   },
   "outputs": [],
   "source": []
  }
 ],
 "metadata": {
  "colab": {
   "provenance": []
  },
  "kernelspec": {
   "display_name": "Python 3 (ipykernel)",
   "language": "python",
   "name": "python3"
  },
  "language_info": {
   "codemirror_mode": {
    "name": "ipython",
    "version": 3
   },
   "file_extension": ".py",
   "mimetype": "text/x-python",
   "name": "python",
   "nbconvert_exporter": "python",
   "pygments_lexer": "ipython3",
   "version": "3.10.9"
  }
 },
 "nbformat": 4,
 "nbformat_minor": 5
}
